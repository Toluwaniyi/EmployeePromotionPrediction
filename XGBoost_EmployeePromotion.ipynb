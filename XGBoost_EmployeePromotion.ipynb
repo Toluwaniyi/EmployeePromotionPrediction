{
  "nbformat": 4,
  "nbformat_minor": 0,
  "metadata": {
    "kernelspec": {
      "name": "python3",
      "display_name": "Python 3"
    },
    "language_info": {
      "codemirror_mode": {
        "name": "ipython",
        "version": 3
      },
      "file_extension": ".py",
      "mimetype": "text/x-python",
      "name": "python",
      "nbconvert_exporter": "python",
      "pygments_lexer": "ipython3",
      "version": "3.7.3"
    },
    "colab": {
      "name": "XGBoost Complex.ipynb",
      "provenance": [],
      "collapsed_sections": []
    }
  },
  "cells": [
    {
      "cell_type": "markdown",
      "metadata": {
        "id": "T193W8H3uKfv",
        "colab_type": "text"
      },
      "source": [
        "# Data Science Nigeria Staff Promotion Algorithm - XGBoostn Complex"
      ]
    },
    {
      "cell_type": "code",
      "metadata": {
        "id": "YtAFa3CMuKfy",
        "colab_type": "code",
        "colab": {}
      },
      "source": [
        "from xgboost import XGBClassifier\n",
        "from sklearn.neural_network import MLPClassifier\n",
        "from sklearn.model_selection import train_test_split\n",
        "from sklearn.metrics import accuracy_score\n",
        "from sklearn.metrics import precision_score\n",
        "from sklearn.metrics import recall_score\n",
        "from sklearn.metrics import roc_auc_score\n",
        "from sklearn.metrics import f1_score\n",
        "import pandas as pd\n",
        "from sklearn import preprocessing\n",
        "\n",
        "from xgboost import plot_importance\n",
        "import numpy as np\n",
        "from sklearn.metrics import confusion_matrix\n",
        "\n",
        "\n",
        "from sklearn.preprocessing import StandardScaler\n",
        "from sklearn.preprocessing import MinMaxScaler"
      ],
      "execution_count": 0,
      "outputs": []
    },
    {
      "cell_type": "code",
      "metadata": {
        "id": "dqNxZ_BZuRR1",
        "colab_type": "code",
        "outputId": "03948e51-8f8e-41cc-814e-eb47cdd5df07",
        "colab": {
          "base_uri": "https://localhost:8080/",
          "height": 34
        }
      },
      "source": [
        "from google.colab import drive\n",
        "drive.mount('/content/gdrive')"
      ],
      "execution_count": 0,
      "outputs": [
        {
          "output_type": "stream",
          "text": [
            "Drive already mounted at /content/gdrive; to attempt to forcibly remount, call drive.mount(\"/content/gdrive\", force_remount=True).\n"
          ],
          "name": "stdout"
        }
      ]
    },
    {
      "cell_type": "code",
      "metadata": {
        "id": "oinrZiu2uf2E",
        "colab_type": "code",
        "colab": {}
      },
      "source": [
        "import pandas as pd\n",
        "df=pd.read_csv('gdrive/My Drive/DSN Project/train.csv')\n",
        "df.set_index('EmployeeNo',inplace=True)"
      ],
      "execution_count": 0,
      "outputs": []
    },
    {
      "cell_type": "code",
      "metadata": {
        "id": "DQhMSPKkMy_1",
        "colab_type": "code",
        "outputId": "afc2adb9-bcd8-4521-a66a-71bb4ea431ee",
        "colab": {
          "base_uri": "https://localhost:8080/",
          "height": 530
        }
      },
      "source": [
        "dfvalidation = pd.read_csv('gdrive/My Drive/DSN Project/test.csv')\n",
        "dfvalidation.set_index('EmployeeNo',inplace=True)\n",
        "dfvalidation['Promoted_or_Not'] = 5\n",
        "dfvalidation.head()\n"
      ],
      "execution_count": 0,
      "outputs": [
        {
          "output_type": "execute_result",
          "data": {
            "text/html": [
              "<div>\n",
              "<style scoped>\n",
              "    .dataframe tbody tr th:only-of-type {\n",
              "        vertical-align: middle;\n",
              "    }\n",
              "\n",
              "    .dataframe tbody tr th {\n",
              "        vertical-align: top;\n",
              "    }\n",
              "\n",
              "    .dataframe thead th {\n",
              "        text-align: right;\n",
              "    }\n",
              "</style>\n",
              "<table border=\"1\" class=\"dataframe\">\n",
              "  <thead>\n",
              "    <tr style=\"text-align: right;\">\n",
              "      <th></th>\n",
              "      <th>Division</th>\n",
              "      <th>Qualification</th>\n",
              "      <th>Gender</th>\n",
              "      <th>Channel_of_Recruitment</th>\n",
              "      <th>Trainings_Attended</th>\n",
              "      <th>Year_of_birth</th>\n",
              "      <th>Last_performance_score</th>\n",
              "      <th>Year_of_recruitment</th>\n",
              "      <th>Targets_met</th>\n",
              "      <th>Previous_Award</th>\n",
              "      <th>Training_score_average</th>\n",
              "      <th>State_Of_Origin</th>\n",
              "      <th>Foreign_schooled</th>\n",
              "      <th>Marital_Status</th>\n",
              "      <th>Past_Disciplinary_Action</th>\n",
              "      <th>Previous_IntraDepartmental_Movement</th>\n",
              "      <th>No_of_previous_employers</th>\n",
              "      <th>Promoted_or_Not</th>\n",
              "    </tr>\n",
              "    <tr>\n",
              "      <th>EmployeeNo</th>\n",
              "      <th></th>\n",
              "      <th></th>\n",
              "      <th></th>\n",
              "      <th></th>\n",
              "      <th></th>\n",
              "      <th></th>\n",
              "      <th></th>\n",
              "      <th></th>\n",
              "      <th></th>\n",
              "      <th></th>\n",
              "      <th></th>\n",
              "      <th></th>\n",
              "      <th></th>\n",
              "      <th></th>\n",
              "      <th></th>\n",
              "      <th></th>\n",
              "      <th></th>\n",
              "      <th></th>\n",
              "    </tr>\n",
              "  </thead>\n",
              "  <tbody>\n",
              "    <tr>\n",
              "      <th>YAK/S/00005</th>\n",
              "      <td>Information Technology and Solution Support</td>\n",
              "      <td>First Degree or HND</td>\n",
              "      <td>Male</td>\n",
              "      <td>Agency and others</td>\n",
              "      <td>2</td>\n",
              "      <td>1976</td>\n",
              "      <td>7.5</td>\n",
              "      <td>2017</td>\n",
              "      <td>0</td>\n",
              "      <td>0</td>\n",
              "      <td>65</td>\n",
              "      <td>FCT</td>\n",
              "      <td>Yes</td>\n",
              "      <td>Married</td>\n",
              "      <td>No</td>\n",
              "      <td>No</td>\n",
              "      <td>1</td>\n",
              "      <td>5</td>\n",
              "    </tr>\n",
              "    <tr>\n",
              "      <th>YAK/S/00011</th>\n",
              "      <td>Information Technology and Solution Support</td>\n",
              "      <td>NaN</td>\n",
              "      <td>Male</td>\n",
              "      <td>Direct Internal process</td>\n",
              "      <td>2</td>\n",
              "      <td>1991</td>\n",
              "      <td>0.0</td>\n",
              "      <td>2018</td>\n",
              "      <td>0</td>\n",
              "      <td>0</td>\n",
              "      <td>69</td>\n",
              "      <td>OGUN</td>\n",
              "      <td>Yes</td>\n",
              "      <td>Married</td>\n",
              "      <td>No</td>\n",
              "      <td>No</td>\n",
              "      <td>1</td>\n",
              "      <td>5</td>\n",
              "    </tr>\n",
              "    <tr>\n",
              "      <th>YAK/S/00015</th>\n",
              "      <td>Research and Innovation</td>\n",
              "      <td>MSc, MBA and PhD</td>\n",
              "      <td>Male</td>\n",
              "      <td>Direct Internal process</td>\n",
              "      <td>2</td>\n",
              "      <td>1984</td>\n",
              "      <td>7.5</td>\n",
              "      <td>2012</td>\n",
              "      <td>0</td>\n",
              "      <td>0</td>\n",
              "      <td>76</td>\n",
              "      <td>KANO</td>\n",
              "      <td>Yes</td>\n",
              "      <td>Married</td>\n",
              "      <td>No</td>\n",
              "      <td>No</td>\n",
              "      <td>1</td>\n",
              "      <td>5</td>\n",
              "    </tr>\n",
              "    <tr>\n",
              "      <th>YAK/S/00016</th>\n",
              "      <td>Customer Support and Field Operations</td>\n",
              "      <td>First Degree or HND</td>\n",
              "      <td>Male</td>\n",
              "      <td>Agency and others</td>\n",
              "      <td>2</td>\n",
              "      <td>1984</td>\n",
              "      <td>2.5</td>\n",
              "      <td>2009</td>\n",
              "      <td>0</td>\n",
              "      <td>0</td>\n",
              "      <td>52</td>\n",
              "      <td>RIVERS</td>\n",
              "      <td>No</td>\n",
              "      <td>Single</td>\n",
              "      <td>No</td>\n",
              "      <td>No</td>\n",
              "      <td>1</td>\n",
              "      <td>5</td>\n",
              "    </tr>\n",
              "    <tr>\n",
              "      <th>YAK/S/00017</th>\n",
              "      <td>Information Technology and Solution Support</td>\n",
              "      <td>First Degree or HND</td>\n",
              "      <td>Male</td>\n",
              "      <td>Agency and others</td>\n",
              "      <td>2</td>\n",
              "      <td>1983</td>\n",
              "      <td>7.5</td>\n",
              "      <td>2014</td>\n",
              "      <td>1</td>\n",
              "      <td>0</td>\n",
              "      <td>69</td>\n",
              "      <td>FCT</td>\n",
              "      <td>Yes</td>\n",
              "      <td>Married</td>\n",
              "      <td>No</td>\n",
              "      <td>No</td>\n",
              "      <td>0</td>\n",
              "      <td>5</td>\n",
              "    </tr>\n",
              "  </tbody>\n",
              "</table>\n",
              "</div>"
            ],
            "text/plain": [
              "                                                Division  ... Promoted_or_Not\n",
              "EmployeeNo                                                ...                \n",
              "YAK/S/00005  Information Technology and Solution Support  ...               5\n",
              "YAK/S/00011  Information Technology and Solution Support  ...               5\n",
              "YAK/S/00015                      Research and Innovation  ...               5\n",
              "YAK/S/00016        Customer Support and Field Operations  ...               5\n",
              "YAK/S/00017  Information Technology and Solution Support  ...               5\n",
              "\n",
              "[5 rows x 18 columns]"
            ]
          },
          "metadata": {
            "tags": []
          },
          "execution_count": 297
        }
      ]
    },
    {
      "cell_type": "code",
      "metadata": {
        "id": "JSxPGKRDuKf3",
        "colab_type": "code",
        "colab": {}
      },
      "source": [
        "\n",
        "# Treating the missing values of education as a separate category\n",
        "dfvalidation['Qualification'] = dfvalidation['Qualification'].replace(np.NaN, 'NA')\n",
        "\n",
        "#Convert Year of birth to Age\n",
        "dfvalidation = dfvalidation.rename(columns = {'Year_of_birth': 'Age'})\n",
        "dfvalidation['Age'] = 2019 - dfvalidation['Age']\n",
        "\n",
        "#Convert the 'Year_of_recruitment' to number of years in company by subtracting from the year 2019\n",
        "dfvalidation = dfvalidation.rename(columns ={'Year_of_recruitment': 'Years_in_company'})\n",
        "dfvalidation['Years_in_company'] = 2019 - dfvalidation['Years_in_company']\n",
        "\n",
        "#We replace all entries of 'More than 5' with 6 and convert the column type to integer\n",
        "dfvalidation['No_of_previous_employers'] = dfvalidation['No_of_previous_employers'].replace(regex = 'More than 5', value = 6)\n",
        "dfvalidation['No_of_previous_employers'] = dfvalidation['No_of_previous_employers'].astype(int)\n",
        "\n",
        "\n",
        "##One hot encoding\n",
        "dfvalidation = pd.concat([dfvalidation[['Trainings_Attended','Age','Last_performance_score','Years_in_company','Targets_met','Previous_Award','Training_score_average','No_of_previous_employers']],\n",
        "               pd.get_dummies(dfvalidation['Division'],drop_first = True),pd.get_dummies(dfvalidation['Qualification'],drop_first = True),pd.get_dummies(dfvalidation['Gender'],drop_first = True),pd.get_dummies(dfvalidation['Channel_of_Recruitment'],drop_first = True),pd.get_dummies(dfvalidation['Foreign_schooled'],drop_first = True),pd.get_dummies(dfvalidation['Marital_Status'],drop_first = True),pd.get_dummies(dfvalidation['Past_Disciplinary_Action'],drop_first = True),pd.get_dummies(dfvalidation['State_Of_Origin'],drop_first = True),pd.get_dummies(dfvalidation['Previous_IntraDepartmental_Movement'],drop_first = True)],axis=1)"
      ],
      "execution_count": 0,
      "outputs": []
    },
    {
      "cell_type": "code",
      "metadata": {
        "id": "puU-HKytuKf7",
        "colab_type": "code",
        "outputId": "d156d273-aad0-4aea-a0a9-315b569b7fdb",
        "colab": {
          "base_uri": "https://localhost:8080/",
          "height": 34
        }
      },
      "source": [
        "##Merging the train and test dataset\n",
        "dfmerged = pd.concat([df,dfvalidation])\n",
        "dfmerged.shape"
      ],
      "execution_count": 0,
      "outputs": [
        {
          "output_type": "execute_result",
          "data": {
            "text/plain": [
              "(54808, 18)"
            ]
          },
          "metadata": {
            "tags": []
          },
          "execution_count": 298
        }
      ]
    },
    {
      "cell_type": "code",
      "metadata": {
        "id": "B-o5Je6aRerD",
        "colab_type": "code",
        "outputId": "b4aff582-a057-4121-d750-d847ba0a0a1f",
        "colab": {
          "base_uri": "https://localhost:8080/",
          "height": 158
        }
      },
      "source": [
        "dfmerged.columns"
      ],
      "execution_count": 0,
      "outputs": [
        {
          "output_type": "execute_result",
          "data": {
            "text/plain": [
              "Index(['Division', 'Qualification', 'Gender', 'Channel_of_Recruitment',\n",
              "       'Trainings_Attended', 'Year_of_birth', 'Last_performance_score',\n",
              "       'Year_of_recruitment', 'Targets_met', 'Previous_Award',\n",
              "       'Training_score_average', 'State_Of_Origin', 'Foreign_schooled',\n",
              "       'Marital_Status', 'Past_Disciplinary_Action',\n",
              "       'Previous_IntraDepartmental_Movement', 'No_of_previous_employers',\n",
              "       'Promoted_or_Not'],\n",
              "      dtype='object')"
            ]
          },
          "metadata": {
            "tags": []
          },
          "execution_count": 280
        }
      ]
    },
    {
      "cell_type": "code",
      "metadata": {
        "id": "7SWG6tMAzjND",
        "colab_type": "code",
        "colab": {}
      },
      "source": [
        "# Treating the missing values of education as a separate category\n",
        "dfmerged['Qualification'] = dfmerged['Qualification'].replace(np.NaN, 'NA')\n",
        "\n",
        "#Convert Year of birth to Age\n",
        "dfmerged = dfmerged.rename(columns = {'Year_of_birth': 'Age'})\n",
        "dfmerged['Age'] = 2019 - dfmerged['Age']\n",
        "\n",
        "#Convert the 'Year_of_recruitment' to number of years in company by subtracting from the year 2019\n",
        "dfmerged = dfmerged.rename(columns ={'Year_of_recruitment': 'Years_in_company'})\n",
        "dfmerged['Years_in_company'] = 2019 - dfmerged['Years_in_company']\n",
        "\n",
        "#We replace all entries of 'More than 5' with 6 and convert the column type to integer\n",
        "dfmerged['No_of_previous_employers'] = dfmerged['No_of_previous_employers'].replace(regex = 'More than 5', value = 6)\n",
        "dfmerged['No_of_previous_employers'] = dfmerged['No_of_previous_employers'].astype(int)\n",
        "\n"
      ],
      "execution_count": 0,
      "outputs": []
    },
    {
      "cell_type": "code",
      "metadata": {
        "id": "T-XrGeEZuKf9",
        "colab_type": "code",
        "colab": {}
      },
      "source": [
        "### Dividing age into different bands as this company has 9 verticals and they are finding promotion for manager and below.So didvided\n",
        "###age into 4 different bands\n",
        "'''\n",
        "def findBand(age):\n",
        "    if age <=29:\n",
        "        return 1\n",
        "    elif age>29 and age<=33:\n",
        "        return 2\n",
        "    elif age>33 and age<=39:\n",
        "        return 3\n",
        "    else:\n",
        "        return 4\n",
        "\n",
        "dfmerged['band'] = dfmerged['age'].apply(findBand)\n",
        "'''"
      ],
      "execution_count": 0,
      "outputs": []
    },
    {
      "cell_type": "code",
      "metadata": {
        "id": "JclwNhOsTGCl",
        "colab_type": "code",
        "outputId": "acce6790-3bea-4e82-e4c2-04ac7e8476a0",
        "colab": {
          "base_uri": "https://localhost:8080/",
          "height": 34
        }
      },
      "source": [
        "len(dfmerged.columns)"
      ],
      "execution_count": 0,
      "outputs": [
        {
          "output_type": "execute_result",
          "data": {
            "text/plain": [
              "18"
            ]
          },
          "metadata": {
            "tags": []
          },
          "execution_count": 282
        }
      ]
    },
    {
      "cell_type": "code",
      "metadata": {
        "id": "vvN-NoIPMdtn",
        "colab_type": "code",
        "outputId": "7d3bde53-0c7f-43c5-e997-11ba632aaeee",
        "colab": {
          "base_uri": "https://localhost:8080/",
          "height": 158
        }
      },
      "source": [
        "##One hot encoding\n",
        "dfmerged = pd.concat([dfmerged[['Trainings_Attended','Age','Last_performance_score','Years_in_company','Targets_met','Previous_Award','Training_score_average','No_of_previous_employers', 'Promoted_or_Not']],\n",
        "               pd.get_dummies(dfmerged['Division'],drop_first = True),pd.get_dummies(dfmerged['Qualification'],drop_first = True),pd.get_dummies(dfmerged['State_Of_Origin'],drop_first = True),pd.get_dummies(dfmerged['Gender'],drop_first = True),pd.get_dummies(dfmerged['Channel_of_Recruitment'],drop_first = True),pd.get_dummies(dfmerged['Foreign_schooled'],drop_first = True),pd.get_dummies(dfmerged['Marital_Status'],drop_first = True),pd.get_dummies(dfmerged['Past_Disciplinary_Action'],drop_first = True),pd.get_dummies(dfmerged['Previous_IntraDepartmental_Movement'],drop_first = True)],axis=1)"
      ],
      "execution_count": 0,
      "outputs": [
        {
          "output_type": "stream",
          "text": [
            "/usr/local/lib/python3.6/dist-packages/ipykernel_launcher.py:2: FutureWarning: Sorting because non-concatenation axis is not aligned. A future version\n",
            "of pandas will change to not sort by default.\n",
            "\n",
            "To accept the future behavior, pass 'sort=False'.\n",
            "\n",
            "To retain the current behavior and silence the warning, pass 'sort=True'.\n",
            "\n",
            "  \n"
          ],
          "name": "stderr"
        }
      ]
    },
    {
      "cell_type": "code",
      "metadata": {
        "id": "zY2JhwDlWkR5",
        "colab_type": "code",
        "outputId": "4d53e091-078e-4434-ee5a-a6e1f5f388e3",
        "colab": {
          "base_uri": "https://localhost:8080/",
          "height": 876
        }
      },
      "source": [
        "pd.DataFrame(dfmerged.columns)"
      ],
      "execution_count": 0,
      "outputs": [
        {
          "output_type": "execute_result",
          "data": {
            "text/html": [
              "<div>\n",
              "<style scoped>\n",
              "    .dataframe tbody tr th:only-of-type {\n",
              "        vertical-align: middle;\n",
              "    }\n",
              "\n",
              "    .dataframe tbody tr th {\n",
              "        vertical-align: top;\n",
              "    }\n",
              "\n",
              "    .dataframe thead th {\n",
              "        text-align: right;\n",
              "    }\n",
              "</style>\n",
              "<table border=\"1\" class=\"dataframe\">\n",
              "  <thead>\n",
              "    <tr style=\"text-align: right;\">\n",
              "      <th></th>\n",
              "      <th>0</th>\n",
              "    </tr>\n",
              "  </thead>\n",
              "  <tbody>\n",
              "    <tr>\n",
              "      <th>0</th>\n",
              "      <td>Trainings_Attended</td>\n",
              "    </tr>\n",
              "    <tr>\n",
              "      <th>1</th>\n",
              "      <td>Age</td>\n",
              "    </tr>\n",
              "    <tr>\n",
              "      <th>2</th>\n",
              "      <td>Last_performance_score</td>\n",
              "    </tr>\n",
              "    <tr>\n",
              "      <th>3</th>\n",
              "      <td>Years_in_company</td>\n",
              "    </tr>\n",
              "    <tr>\n",
              "      <th>4</th>\n",
              "      <td>Targets_met</td>\n",
              "    </tr>\n",
              "    <tr>\n",
              "      <th>5</th>\n",
              "      <td>Previous_Award</td>\n",
              "    </tr>\n",
              "    <tr>\n",
              "      <th>6</th>\n",
              "      <td>Training_score_average</td>\n",
              "    </tr>\n",
              "    <tr>\n",
              "      <th>7</th>\n",
              "      <td>No_of_previous_employers</td>\n",
              "    </tr>\n",
              "    <tr>\n",
              "      <th>8</th>\n",
              "      <td>Promoted_or_Not</td>\n",
              "    </tr>\n",
              "    <tr>\n",
              "      <th>9</th>\n",
              "      <td>Commercial Sales and Marketing</td>\n",
              "    </tr>\n",
              "    <tr>\n",
              "      <th>10</th>\n",
              "      <td>Customer Support and Field Operations</td>\n",
              "    </tr>\n",
              "    <tr>\n",
              "      <th>11</th>\n",
              "      <td>Information Technology and Solution Support</td>\n",
              "    </tr>\n",
              "    <tr>\n",
              "      <th>12</th>\n",
              "      <td>Information and Strategy</td>\n",
              "    </tr>\n",
              "    <tr>\n",
              "      <th>13</th>\n",
              "      <td>People/HR Management</td>\n",
              "    </tr>\n",
              "    <tr>\n",
              "      <th>14</th>\n",
              "      <td>Regulatory and Legal services</td>\n",
              "    </tr>\n",
              "    <tr>\n",
              "      <th>15</th>\n",
              "      <td>Research and Innovation</td>\n",
              "    </tr>\n",
              "    <tr>\n",
              "      <th>16</th>\n",
              "      <td>Sourcing and Purchasing</td>\n",
              "    </tr>\n",
              "    <tr>\n",
              "      <th>17</th>\n",
              "      <td>MSc, MBA and PhD</td>\n",
              "    </tr>\n",
              "    <tr>\n",
              "      <th>18</th>\n",
              "      <td>NA</td>\n",
              "    </tr>\n",
              "    <tr>\n",
              "      <th>19</th>\n",
              "      <td>Non-University Education</td>\n",
              "    </tr>\n",
              "    <tr>\n",
              "      <th>20</th>\n",
              "      <td>Male</td>\n",
              "    </tr>\n",
              "    <tr>\n",
              "      <th>21</th>\n",
              "      <td>Direct Internal process</td>\n",
              "    </tr>\n",
              "    <tr>\n",
              "      <th>22</th>\n",
              "      <td>Referral and Special candidates</td>\n",
              "    </tr>\n",
              "    <tr>\n",
              "      <th>23</th>\n",
              "      <td>Yes</td>\n",
              "    </tr>\n",
              "    <tr>\n",
              "      <th>24</th>\n",
              "      <td>Not_Sure</td>\n",
              "    </tr>\n",
              "    <tr>\n",
              "      <th>25</th>\n",
              "      <td>Single</td>\n",
              "    </tr>\n",
              "    <tr>\n",
              "      <th>26</th>\n",
              "      <td>Yes</td>\n",
              "    </tr>\n",
              "    <tr>\n",
              "      <th>27</th>\n",
              "      <td>Yes</td>\n",
              "    </tr>\n",
              "  </tbody>\n",
              "</table>\n",
              "</div>"
            ],
            "text/plain": [
              "                                              0\n",
              "0                            Trainings_Attended\n",
              "1                                           Age\n",
              "2                        Last_performance_score\n",
              "3                              Years_in_company\n",
              "4                                   Targets_met\n",
              "5                                Previous_Award\n",
              "6                        Training_score_average\n",
              "7                      No_of_previous_employers\n",
              "8                               Promoted_or_Not\n",
              "9                Commercial Sales and Marketing\n",
              "10        Customer Support and Field Operations\n",
              "11  Information Technology and Solution Support\n",
              "12                     Information and Strategy\n",
              "13                         People/HR Management\n",
              "14                Regulatory and Legal services\n",
              "15                      Research and Innovation\n",
              "16                      Sourcing and Purchasing\n",
              "17                             MSc, MBA and PhD\n",
              "18                                           NA\n",
              "19                     Non-University Education\n",
              "20                                         Male\n",
              "21                      Direct Internal process\n",
              "22              Referral and Special candidates\n",
              "23                                          Yes\n",
              "24                                     Not_Sure\n",
              "25                                       Single\n",
              "26                                          Yes\n",
              "27                                          Yes"
            ]
          },
          "metadata": {
            "tags": []
          },
          "execution_count": 269
        }
      ]
    },
    {
      "cell_type": "code",
      "metadata": {
        "id": "pHOdxk8ZMdw_",
        "colab_type": "code",
        "outputId": "bdee7760-e2ef-4041-e67d-4662179f1fc3",
        "colab": {
          "base_uri": "https://localhost:8080/",
          "height": 34
        }
      },
      "source": [
        "###Generating all possible pair of interactions between 2 pair of columns.\n",
        "##Then removing those columns \n",
        "\n",
        "from itertools import combinations\n",
        "from sklearn.preprocessing import PolynomialFeatures\n",
        "\n",
        "Y = dfmerged.Promoted_or_Not\n",
        "X = dfmerged.drop(['Promoted_or_Not'],1)\n",
        " \n",
        "\n",
        "\n",
        "def add_interactions(df):\n",
        "    combos = list(combinations(list(df.columns), 2))\n",
        "    colnames = list(df.columns)+['_'.join(x) for x in combos]\n",
        "    \n",
        "    scaler = MinMaxScaler()\n",
        "    scaler.fit(df)\n",
        "    df = scaler.transform(df)\n",
        "    \n",
        "    poly = PolynomialFeatures(interaction_only=True, include_bias=False)\n",
        "    df = poly.fit_transform(df)\n",
        "    df = pd.DataFrame(df)\n",
        "    df.columns = colnames\n",
        "    \n",
        "    noint_indices = [i for i,x in enumerate(list((df==0).all())) if x]\n",
        "    df= df.drop(df.columns[noint_indices], axis=1)\n",
        "    \n",
        "    return df\n",
        "X = add_interactions(X)\n",
        "dfvalidation = add_interactions(dfvalidation)\n",
        "X.shape"
      ],
      "execution_count": 0,
      "outputs": [
        {
          "output_type": "execute_result",
          "data": {
            "text/plain": [
              "(54808, 342)"
            ]
          },
          "metadata": {
            "tags": []
          },
          "execution_count": 285
        }
      ]
    },
    {
      "cell_type": "code",
      "metadata": {
        "id": "OaEKyP5_Md1G",
        "colab_type": "code",
        "colab": {}
      },
      "source": [
        "###Seperate out the training and testing dataset\n",
        "\n",
        "X.index = Y.index\n",
        "X['Promoted_or_Not'] = Y\n",
        "\n",
        "X_validation = X[38312:]\n",
        "X = X[0:38312]"
      ],
      "execution_count": 0,
      "outputs": []
    },
    {
      "cell_type": "code",
      "metadata": {
        "id": "M6-C9r-PMye_",
        "colab_type": "code",
        "colab": {}
      },
      "source": [
        "Y = X.Promoted_or_Not\n",
        "X = X.drop(['Promoted_or_Not'],1)\n",
        " \n",
        "\n",
        "seed = 42\n",
        "test_size = 0.2\n",
        "X_train, X_test, y_train, y_test = train_test_split(X, Y, test_size=test_size, random_state=seed)"
      ],
      "execution_count": 0,
      "outputs": []
    },
    {
      "cell_type": "code",
      "metadata": {
        "id": "Ir_1WlCsc3HY",
        "colab_type": "code",
        "outputId": "bd3910d9-d312-4711-c858-ef65c71ff58c",
        "colab": {
          "base_uri": "https://localhost:8080/",
          "height": 52
        }
      },
      "source": [
        "print(X_train.shape, y_train.shape)\n",
        "print(X_test.shape, y_test.shape)"
      ],
      "execution_count": 0,
      "outputs": [
        {
          "output_type": "stream",
          "text": [
            "(30649, 342) (30649,)\n",
            "(7663, 342) (7663,)\n"
          ],
          "name": "stdout"
        }
      ]
    },
    {
      "cell_type": "code",
      "metadata": {
        "id": "LXU-MJVxc8qv",
        "colab_type": "code",
        "outputId": "ac9a3a22-f8c8-465c-e8a2-82f495f4cd6b",
        "colab": {
          "base_uri": "https://localhost:8080/",
          "height": 474
        }
      },
      "source": [
        "duplicate_columns = X_train.columns[X_train.columns.duplicated()]\n",
        "print(duplicate_columns)\n",
        "X_train = X_train.drop(duplicate_columns, axis = 1)\n",
        "X_test = X_test.drop(duplicate_columns, axis = 1)\n",
        "X = X.drop(duplicate_columns, axis = 1)\n"
      ],
      "execution_count": 0,
      "outputs": [
        {
          "output_type": "stream",
          "text": [
            "Index(['Yes', 'Yes', 'Trainings_Attended_Yes', 'Trainings_Attended_Yes',\n",
            "       'Age_Yes', 'Age_Yes', 'Last_performance_score_Yes',\n",
            "       'Last_performance_score_Yes', 'Years_in_company_Yes',\n",
            "       'Years_in_company_Yes', 'Targets_met_Yes', 'Targets_met_Yes',\n",
            "       'Previous_Award_Yes', 'Previous_Award_Yes',\n",
            "       'Training_score_average_Yes', 'Training_score_average_Yes',\n",
            "       'No_of_previous_employers_Yes', 'No_of_previous_employers_Yes',\n",
            "       'Commercial Sales and Marketing_Yes',\n",
            "       'Commercial Sales and Marketing_Yes',\n",
            "       'Customer Support and Field Operations_Yes',\n",
            "       'Customer Support and Field Operations_Yes',\n",
            "       'Information Technology and Solution Support_Yes',\n",
            "       'Information Technology and Solution Support_Yes',\n",
            "       'Information and Strategy_Yes', 'Information and Strategy_Yes',\n",
            "       'People/HR Management_Yes', 'People/HR Management_Yes',\n",
            "       'Regulatory and Legal services_Yes',\n",
            "       'Regulatory and Legal services_Yes', 'Research and Innovation_Yes',\n",
            "       'Research and Innovation_Yes', 'Sourcing and Purchasing_Yes',\n",
            "       'Sourcing and Purchasing_Yes', 'MSc, MBA and PhD_Yes',\n",
            "       'MSc, MBA and PhD_Yes', 'NA_Yes', 'NA_Yes',\n",
            "       'Non-University Education_Yes', 'Non-University Education_Yes',\n",
            "       'Male_Yes', 'Male_Yes', 'Direct Internal process_Yes',\n",
            "       'Direct Internal process_Yes', 'Referral and Special candidates_Yes',\n",
            "       'Referral and Special candidates_Yes', 'Yes_Yes', 'Not_Sure_Yes',\n",
            "       'Single_Yes', 'Yes_Yes'],\n",
            "      dtype='object')\n"
          ],
          "name": "stdout"
        }
      ]
    },
    {
      "cell_type": "code",
      "metadata": {
        "id": "QAUKVhRfMyiE",
        "colab_type": "code",
        "outputId": "0d42e907-d0a2-4597-a2b7-45b3ba3f4ab4",
        "colab": {
          "base_uri": "https://localhost:8080/",
          "height": 90
        }
      },
      "source": [
        "###Hypertune the model intensively with a 5 fold cross validation strategy.\n",
        "##first grid search for max_depth,min_child_weight then fix those and search for rest in same fashion\n",
        "### parameter scale_pos_weight is quite important in case of imbalanced dataset\n",
        "\n",
        "from sklearn.model_selection import GridSearchCV\n",
        "param_test2b = {\n",
        "  #'min_child_weight':[5,6],\n",
        "  #'max_depth': range(3,10,2),\n",
        "  #'n_estimators':[150,200,300,400],\n",
        "  #'scale_pos_weight':[1,2,3,4],\n",
        "  #'colsample_bytree':[0.7,0.8], \n",
        "  #'subsample':[0.7,0.8],\n",
        "  #'gamma':[0,0.2.0.4]\n",
        "    \n",
        "}\n",
        "gsearch2b = GridSearchCV(estimator = XGBClassifier( learning_rate=0.1, n_estimators=150, max_depth=5,\n",
        " min_child_weight=1, gamma=0, subsample=0.8, colsample_bytree=0.8,\n",
        " objective= 'binary:logistic', nthread=4, scale_pos_weight=3,seed=27), \n",
        " param_grid = param_test2b, scoring='f1',n_jobs=4,iid=False, cv=5)\n",
        "gsearch2b.fit(X_train, y_train)\n",
        "print(gsearch2b.cv_results_)\n",
        "print(\"gsearch2b.best_params_\",gsearch2b.best_params_)\n",
        "print(\"gsearch2b.best_score_\",gsearch2b.best_score_)"
      ],
      "execution_count": 0,
      "outputs": [
        {
          "output_type": "stream",
          "text": [
            "{'mean_fit_time': array([90.27193937]), 'std_fit_time': array([31.77764638]), 'mean_score_time': array([0.18961124]), 'std_score_time': array([0.09714284]), 'params': [{}], 'split0_test_score': array([0.5157385]), 'split1_test_score': array([0.50357995]), 'split2_test_score': array([0.53271028]), 'split3_test_score': array([0.48241206]), 'split4_test_score': array([0.51257485]), 'mean_test_score': array([0.50940313]), 'std_test_score': array([0.01646722]), 'rank_test_score': array([1], dtype=int32)}\n",
            "gsearch2b.best_params_ {}\n",
            "gsearch2b.best_score_ 0.509403128406278\n"
          ],
          "name": "stdout"
        }
      ]
    },
    {
      "cell_type": "code",
      "metadata": {
        "id": "z4uL_9Z-MylE",
        "colab_type": "code",
        "colab": {}
      },
      "source": [
        "###Train the model with the best params\n",
        "modelXg = XGBClassifier(learning_rate=0.1, n_estimators=200, max_depth=4, min_child_weight=7, \n",
        "                      gamma=0.4,nthread=4, subsample=0.8, colsample_bytree=0.8, objective= 'binary:logistic',scale_pos_weight=3,seed=29)\n",
        "modelXg.fit(X_train, y_train)\n",
        "y_xg = modelXg.predict(X_test)"
      ],
      "execution_count": 0,
      "outputs": []
    },
    {
      "cell_type": "code",
      "metadata": {
        "id": "phRNsfM0Myns",
        "colab_type": "code",
        "outputId": "f31ef205-273b-4920-df32-6d9da2ac65ca",
        "colab": {
          "base_uri": "https://localhost:8080/",
          "height": 158
        }
      },
      "source": [
        "## Determine whether your model is overfitting or not , with the help of ROC.\n",
        "print(confusion_matrix(y_test, y_xg))\n",
        "predictions = [value for value in y_xg]\n",
        "accuracy = accuracy_score(y_test, predictions)\n",
        "precision = precision_score(y_test, predictions)\n",
        "recall = recall_score(y_test, predictions)\n",
        "f1 = f1_score(y_test, predictions)\n",
        "print(\"Accuracy_score: %.2f%% on test dataset\" % (accuracy * 100.0))\n",
        "print(\"precision_score: %.2f%% on test dataset\" % (precision * 100.0))\n",
        "print(\"recall_score: %.2f%% on test dataset\" % (recall * 100.0))\n",
        "print(\"f1_score: %.2f%% on test dataset\" % (f1 * 100.0))\n",
        "print(\"roc_auc test set\", roc_auc_score(y_test, modelXg.predict_proba(X_test)[:,1]))\n",
        "print(\"roc_auc training set\", roc_auc_score(y_train, modelXg.predict_proba(X_train)[:,1]))"
      ],
      "execution_count": 0,
      "outputs": [
        {
          "output_type": "stream",
          "text": [
            "[[6854  142]\n",
            " [ 416  251]]\n",
            "Accuracy_score: 92.72% on test dataset\n",
            "precision_score: 63.87% on test dataset\n",
            "recall_score: 37.63% on test dataset\n",
            "f1_score: 47.36% on test dataset\n",
            "roc_auc test set 0.8940886546435187\n",
            "roc_auc training set 0.9404028780164132\n"
          ],
          "name": "stdout"
        }
      ]
    },
    {
      "cell_type": "code",
      "metadata": {
        "id": "ud_5FoQYMyqU",
        "colab_type": "code",
        "outputId": "17d1125a-d5fc-4745-f474-26b6d2d3cf0c",
        "colab": {
          "base_uri": "https://localhost:8080/",
          "height": 350
        }
      },
      "source": [
        "##Once the model is ready, train the model on entire dataset.\n",
        "modelXg = XGBClassifier(learning_rate=0.1, n_estimators=200, max_depth=4, min_child_weight=7, \n",
        "                      gamma=0.4,nthread=4, subsample=0.8, colsample_bytree=0.8, objective= 'binary:logistic',scale_pos_weight=3,seed=29)\n",
        "\n",
        "modelXg.fit(X, Y)"
      ],
      "execution_count": 0,
      "outputs": [
        {
          "output_type": "error",
          "ename": "KeyboardInterrupt",
          "evalue": "ignored",
          "traceback": [
            "\u001b[0;31m---------------------------------------------------------------------------\u001b[0m",
            "\u001b[0;31mKeyboardInterrupt\u001b[0m                         Traceback (most recent call last)",
            "\u001b[0;32m<ipython-input-293-39f080fb1f45>\u001b[0m in \u001b[0;36m<module>\u001b[0;34m()\u001b[0m\n\u001b[1;32m      2\u001b[0m                       gamma=0.4,nthread=4, subsample=0.8, colsample_bytree=0.8, objective= 'binary:logistic',scale_pos_weight=3,seed=29)\n\u001b[1;32m      3\u001b[0m \u001b[0;34m\u001b[0m\u001b[0m\n\u001b[0;32m----> 4\u001b[0;31m \u001b[0mmodelXg\u001b[0m\u001b[0;34m.\u001b[0m\u001b[0mfit\u001b[0m\u001b[0;34m(\u001b[0m\u001b[0mX\u001b[0m\u001b[0;34m,\u001b[0m \u001b[0mY\u001b[0m\u001b[0;34m)\u001b[0m\u001b[0;34m\u001b[0m\u001b[0;34m\u001b[0m\u001b[0m\n\u001b[0m",
            "\u001b[0;32m/usr/local/lib/python3.6/dist-packages/xgboost/sklearn.py\u001b[0m in \u001b[0;36mfit\u001b[0;34m(self, X, y, sample_weight, eval_set, eval_metric, early_stopping_rounds, verbose, xgb_model, sample_weight_eval_set, callbacks)\u001b[0m\n\u001b[1;32m    730\u001b[0m                               \u001b[0mevals_result\u001b[0m\u001b[0;34m=\u001b[0m\u001b[0mevals_result\u001b[0m\u001b[0;34m,\u001b[0m \u001b[0mobj\u001b[0m\u001b[0;34m=\u001b[0m\u001b[0mobj\u001b[0m\u001b[0;34m,\u001b[0m \u001b[0mfeval\u001b[0m\u001b[0;34m=\u001b[0m\u001b[0mfeval\u001b[0m\u001b[0;34m,\u001b[0m\u001b[0;34m\u001b[0m\u001b[0;34m\u001b[0m\u001b[0m\n\u001b[1;32m    731\u001b[0m                               \u001b[0mverbose_eval\u001b[0m\u001b[0;34m=\u001b[0m\u001b[0mverbose\u001b[0m\u001b[0;34m,\u001b[0m \u001b[0mxgb_model\u001b[0m\u001b[0;34m=\u001b[0m\u001b[0mxgb_model\u001b[0m\u001b[0;34m,\u001b[0m\u001b[0;34m\u001b[0m\u001b[0;34m\u001b[0m\u001b[0m\n\u001b[0;32m--> 732\u001b[0;31m                               callbacks=callbacks)\n\u001b[0m\u001b[1;32m    733\u001b[0m \u001b[0;34m\u001b[0m\u001b[0m\n\u001b[1;32m    734\u001b[0m         \u001b[0mself\u001b[0m\u001b[0;34m.\u001b[0m\u001b[0mobjective\u001b[0m \u001b[0;34m=\u001b[0m \u001b[0mxgb_options\u001b[0m\u001b[0;34m[\u001b[0m\u001b[0;34m\"objective\"\u001b[0m\u001b[0;34m]\u001b[0m\u001b[0;34m\u001b[0m\u001b[0;34m\u001b[0m\u001b[0m\n",
            "\u001b[0;32m/usr/local/lib/python3.6/dist-packages/xgboost/training.py\u001b[0m in \u001b[0;36mtrain\u001b[0;34m(params, dtrain, num_boost_round, evals, obj, feval, maximize, early_stopping_rounds, evals_result, verbose_eval, xgb_model, callbacks, learning_rates)\u001b[0m\n\u001b[1;32m    214\u001b[0m                            \u001b[0mevals\u001b[0m\u001b[0;34m=\u001b[0m\u001b[0mevals\u001b[0m\u001b[0;34m,\u001b[0m\u001b[0;34m\u001b[0m\u001b[0;34m\u001b[0m\u001b[0m\n\u001b[1;32m    215\u001b[0m                            \u001b[0mobj\u001b[0m\u001b[0;34m=\u001b[0m\u001b[0mobj\u001b[0m\u001b[0;34m,\u001b[0m \u001b[0mfeval\u001b[0m\u001b[0;34m=\u001b[0m\u001b[0mfeval\u001b[0m\u001b[0;34m,\u001b[0m\u001b[0;34m\u001b[0m\u001b[0;34m\u001b[0m\u001b[0m\n\u001b[0;32m--> 216\u001b[0;31m                            xgb_model=xgb_model, callbacks=callbacks)\n\u001b[0m\u001b[1;32m    217\u001b[0m \u001b[0;34m\u001b[0m\u001b[0m\n\u001b[1;32m    218\u001b[0m \u001b[0;34m\u001b[0m\u001b[0m\n",
            "\u001b[0;32m/usr/local/lib/python3.6/dist-packages/xgboost/training.py\u001b[0m in \u001b[0;36m_train_internal\u001b[0;34m(params, dtrain, num_boost_round, evals, obj, feval, xgb_model, callbacks)\u001b[0m\n\u001b[1;32m     72\u001b[0m         \u001b[0;31m# Skip the first update if it is a recovery step.\u001b[0m\u001b[0;34m\u001b[0m\u001b[0;34m\u001b[0m\u001b[0;34m\u001b[0m\u001b[0m\n\u001b[1;32m     73\u001b[0m         \u001b[0;32mif\u001b[0m \u001b[0mversion\u001b[0m \u001b[0;34m%\u001b[0m \u001b[0;36m2\u001b[0m \u001b[0;34m==\u001b[0m \u001b[0;36m0\u001b[0m\u001b[0;34m:\u001b[0m\u001b[0;34m\u001b[0m\u001b[0;34m\u001b[0m\u001b[0m\n\u001b[0;32m---> 74\u001b[0;31m             \u001b[0mbst\u001b[0m\u001b[0;34m.\u001b[0m\u001b[0mupdate\u001b[0m\u001b[0;34m(\u001b[0m\u001b[0mdtrain\u001b[0m\u001b[0;34m,\u001b[0m \u001b[0mi\u001b[0m\u001b[0;34m,\u001b[0m \u001b[0mobj\u001b[0m\u001b[0;34m)\u001b[0m\u001b[0;34m\u001b[0m\u001b[0;34m\u001b[0m\u001b[0m\n\u001b[0m\u001b[1;32m     75\u001b[0m             \u001b[0mbst\u001b[0m\u001b[0;34m.\u001b[0m\u001b[0msave_rabit_checkpoint\u001b[0m\u001b[0;34m(\u001b[0m\u001b[0;34m)\u001b[0m\u001b[0;34m\u001b[0m\u001b[0;34m\u001b[0m\u001b[0m\n\u001b[1;32m     76\u001b[0m             \u001b[0mversion\u001b[0m \u001b[0;34m+=\u001b[0m \u001b[0;36m1\u001b[0m\u001b[0;34m\u001b[0m\u001b[0;34m\u001b[0m\u001b[0m\n",
            "\u001b[0;32m/usr/local/lib/python3.6/dist-packages/xgboost/core.py\u001b[0m in \u001b[0;36mupdate\u001b[0;34m(self, dtrain, iteration, fobj)\u001b[0m\n\u001b[1;32m   1107\u001b[0m         \u001b[0;32mif\u001b[0m \u001b[0mfobj\u001b[0m \u001b[0;32mis\u001b[0m \u001b[0;32mNone\u001b[0m\u001b[0;34m:\u001b[0m\u001b[0;34m\u001b[0m\u001b[0;34m\u001b[0m\u001b[0m\n\u001b[1;32m   1108\u001b[0m             _check_call(_LIB.XGBoosterUpdateOneIter(self.handle, ctypes.c_int(iteration),\n\u001b[0;32m-> 1109\u001b[0;31m                                                     dtrain.handle))\n\u001b[0m\u001b[1;32m   1110\u001b[0m         \u001b[0;32melse\u001b[0m\u001b[0;34m:\u001b[0m\u001b[0;34m\u001b[0m\u001b[0;34m\u001b[0m\u001b[0m\n\u001b[1;32m   1111\u001b[0m             \u001b[0mpred\u001b[0m \u001b[0;34m=\u001b[0m \u001b[0mself\u001b[0m\u001b[0;34m.\u001b[0m\u001b[0mpredict\u001b[0m\u001b[0;34m(\u001b[0m\u001b[0mdtrain\u001b[0m\u001b[0;34m)\u001b[0m\u001b[0;34m\u001b[0m\u001b[0;34m\u001b[0m\u001b[0m\n",
            "\u001b[0;31mKeyboardInterrupt\u001b[0m: "
          ]
        }
      ]
    },
    {
      "cell_type": "code",
      "metadata": {
        "id": "lFukH9aDN-9e",
        "colab_type": "code",
        "colab": {}
      },
      "source": [
        "'''\n",
        "##find the useful cols\n",
        "usefulcols = []\n",
        "for i in sorted( model.booster().get_fscore().items(), key=lambda x: x[1], reverse=True)[:100]:\n",
        "    usefulcols.append(i[0])\n",
        "print usefulcols\n",
        "'''"
      ],
      "execution_count": 0,
      "outputs": []
    },
    {
      "cell_type": "code",
      "metadata": {
        "id": "68V-13ij-hHj",
        "colab_type": "code",
        "colab": {}
      },
      "source": [
        "X_validation = X_validation.drop(duplicate_columns, axis = 1)"
      ],
      "execution_count": 0,
      "outputs": []
    },
    {
      "cell_type": "code",
      "metadata": {
        "id": "yieCQ6vwN_Ab",
        "colab_type": "code",
        "outputId": "80809d75-569e-4e14-d406-d6b3297ef928",
        "colab": {
          "base_uri": "https://localhost:8080/",
          "height": 70
        }
      },
      "source": [
        "X = X_validation.drop(['Promoted_or_Not'],1)\n",
        "dfvalidation = X_validation.drop(['Promoted_or_Not'],1)\n",
        "y_valid = modelXg.predict(dfvalidation)\n",
        "submission = dfvalidation.copy()\n",
        "submission['Promoted_or_Not'] = y_valid\n",
        "submission['Promoted_or_Not'].value_counts()"
      ],
      "execution_count": 0,
      "outputs": [
        {
          "output_type": "execute_result",
          "data": {
            "text/plain": [
              "0    15617\n",
              "1      879\n",
              "Name: Promoted_or_Not, dtype: int64"
            ]
          },
          "metadata": {
            "tags": []
          },
          "execution_count": 258
        }
      ]
    },
    {
      "cell_type": "code",
      "metadata": {
        "id": "kAw4gkTEN_Dk",
        "colab_type": "code",
        "colab": {}
      },
      "source": [
        "submission = submission[['Promoted_or_Not']]\n",
        "submission.set_index(dfvalidation.index, inplace=True)\n",
        "\n",
        "from google.colab import files\n",
        "\n",
        "submission.to_csv('dsn_xgboost_2.csv') \n",
        "files.download('dsn_xgboost_2.csv')\n"
      ],
      "execution_count": 0,
      "outputs": []
    },
    {
      "cell_type": "code",
      "metadata": {
        "id": "7BtZxkj7F63A",
        "colab_type": "code",
        "colab": {}
      },
      "source": [
        ""
      ],
      "execution_count": 0,
      "outputs": []
    }
  ]
}